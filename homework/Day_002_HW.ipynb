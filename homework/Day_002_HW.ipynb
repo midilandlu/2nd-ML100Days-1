{
 "cells": [
  {
   "cell_type": "markdown",
   "metadata": {},
   "source": [
    "## 練習時間\n",
    "資料的操作有很多，接下來的馬拉松中我們會介紹常被使用到的操作，參加者不妨先自行想像一下，第一次看到資料，我們一般會想知道什麼訊息？\n",
    "\n",
    "#### Ex: 如何知道資料的 row 數以及 column 數、有什麼欄位、多少欄位、如何截取部分的資料等等\n",
    "\n",
    "有了對資料的好奇之後，我們又怎麼通過程式碼來達成我們的目的呢？\n",
    "\n",
    "#### 可參考該[基礎教材](https://bookdata.readthedocs.io/en/latest/base/01_pandas.html#DataFrame-%E5%85%A5%E9%97%A8)或自行 google"
   ]
  },
  {
   "cell_type": "code",
   "execution_count": 1,
   "metadata": {},
   "outputs": [],
   "source": [
    "import os\n",
    "import numpy as np\n",
    "import pandas as pd"
   ]
  },
  {
   "cell_type": "code",
   "execution_count": 2,
   "metadata": {},
   "outputs": [],
   "source": [
    "# 設定 data_path\n",
    "dir_data = './data/'"
   ]
  },
  {
   "cell_type": "code",
   "execution_count": 3,
   "metadata": {},
   "outputs": [
    {
     "name": "stdout",
     "output_type": "stream",
     "text": [
      "Path of read in data: ./data/application_train.csv\n"
     ]
    }
   ],
   "source": [
    "f_app = os.path.join(dir_data, 'application_train.csv')\n",
    "print('Path of read in data: %s' % (f_app))\n",
    "app_train = pd.read_csv(f_app)"
   ]
  },
  {
   "cell_type": "markdown",
   "metadata": {},
   "source": [
    "### 如果沒有想法，可以先嘗試找出剛剛例子中提到的問題的答案\n",
    "#### 資料的 row 數以及 column 數"
   ]
  },
  {
   "cell_type": "code",
   "execution_count": 4,
   "metadata": {},
   "outputs": [
    {
     "name": "stdout",
     "output_type": "stream",
     "text": [
      "row 數:307511\n",
      "col 數:122\n"
     ]
    }
   ],
   "source": [
    "print(\"row 數:{}\".format(app_train.shape[0]))\n",
    "print(\"col 數:{}\".format(app_train.shape[1]))"
   ]
  },
  {
   "cell_type": "markdown",
   "metadata": {},
   "source": [
    "#### 列出所有欄位"
   ]
  },
  {
   "cell_type": "code",
   "execution_count": 5,
   "metadata": {},
   "outputs": [
    {
     "name": "stdout",
     "output_type": "stream",
     "text": [
      "Index(['SK_ID_CURR', 'TARGET', 'NAME_CONTRACT_TYPE', 'CODE_GENDER',\n",
      "       'FLAG_OWN_CAR', 'FLAG_OWN_REALTY', 'CNT_CHILDREN', 'AMT_INCOME_TOTAL',\n",
      "       'AMT_CREDIT', 'AMT_ANNUITY',\n",
      "       ...\n",
      "       'FLAG_DOCUMENT_18', 'FLAG_DOCUMENT_19', 'FLAG_DOCUMENT_20',\n",
      "       'FLAG_DOCUMENT_21', 'AMT_REQ_CREDIT_BUREAU_HOUR',\n",
      "       'AMT_REQ_CREDIT_BUREAU_DAY', 'AMT_REQ_CREDIT_BUREAU_WEEK',\n",
      "       'AMT_REQ_CREDIT_BUREAU_MON', 'AMT_REQ_CREDIT_BUREAU_QRT',\n",
      "       'AMT_REQ_CREDIT_BUREAU_YEAR'],\n",
      "      dtype='object', length=122)\n"
     ]
    }
   ],
   "source": [
    "col = app_train.columns\n",
    "print(col)"
   ]
  },
  {
   "cell_type": "markdown",
   "metadata": {},
   "source": [
    "#### 截取部分資料"
   ]
  },
  {
   "cell_type": "code",
   "execution_count": 6,
   "metadata": {},
   "outputs": [
    {
     "name": "stdout",
     "output_type": "stream",
     "text": [
      "   NAME_CONTRACT_TYPE CODE_GENDER FLAG_OWN_CAR FLAG_OWN_REALTY\n",
      "0          Cash loans           M            N               Y\n",
      "1          Cash loans           F            N               N\n",
      "2     Revolving loans           M            Y               Y\n",
      "3          Cash loans           F            N               Y\n",
      "4          Cash loans           M            N               Y\n",
      "5          Cash loans           M            N               Y\n",
      "6          Cash loans           F            Y               Y\n",
      "7          Cash loans           M            Y               Y\n",
      "8          Cash loans           F            N               Y\n",
      "9     Revolving loans           M            N               Y\n",
      "10         Cash loans           F            N               Y\n",
      "11         Cash loans           F            N               Y\n",
      "12         Cash loans           F            N               Y\n",
      "13         Cash loans           M            Y               N\n",
      "14         Cash loans           F            N               Y\n",
      "15         Cash loans           M            Y               Y\n",
      "16         Cash loans           M            N               N\n",
      "17    Revolving loans           F            N               Y\n",
      "18    Revolving loans           F            N               Y\n",
      "19         Cash loans           F            N               Y\n",
      "20    Revolving loans           M            Y               Y\n",
      "21         Cash loans           F            Y               Y\n",
      "22         Cash loans           F            N               N\n",
      "23         Cash loans           F            N               Y\n",
      "24         Cash loans           M            Y               N\n",
      "25         Cash loans           F            N               Y\n",
      "26         Cash loans           F            N               Y\n",
      "27         Cash loans           M            N               Y\n",
      "28         Cash loans           M            Y               Y\n",
      "29    Revolving loans           M            N               Y\n"
     ]
    }
   ],
   "source": [
    "print(app_train.iloc[0:30 , 2:6])"
   ]
  },
  {
   "cell_type": "markdown",
   "metadata": {},
   "source": [
    "#### 1.把app_train['NAME_CONTRACT_TYPE'] = Cash_loans的挑出來，再挑出app_train['AMT_INCOME_TOTAL'] <= 202500的所有值乘上2\n",
    "#### 2.把app_train['NAME_CONTRACT_TYPE'] = Revolving loans的挑出來，再挑出app_train['AMT_INCOME_TOTAL'] <= 202500的所有值乘上4"
   ]
  },
  {
   "cell_type": "code",
   "execution_count": 10,
   "metadata": {
    "scrolled": true
   },
   "outputs": [
    {
     "name": "stdout",
     "output_type": "stream",
     "text": [
      "0        405000.0\n",
      "10201    225000.0\n",
      "10199    315000.0\n",
      "10180    270000.0\n",
      "10179    198000.0\n",
      "Name: new, dtype: float64\n"
     ]
    }
   ],
   "source": [
    "global flag , count \n",
    "count = 1\n",
    "flag = False\n",
    "def operation(series):\n",
    "    global flag , count \n",
    "    if flag == False:\n",
    "        flag = True\n",
    "        return \n",
    "    if count == 1:\n",
    "        condition = (series <= 202500)\n",
    "        series[condition] = series[condition] * 2\n",
    "    elif count == 2:\n",
    "        condition = (series <= 202500)\n",
    "        series[condition] = series[condition] * 4\n",
    "    count = count + 1\n",
    "    return series\n",
    "\n",
    "app_train.sort_values(by = 'NAME_CONTRACT_TYPE' , inplace = True)\n",
    "new = app_train.groupby('NAME_CONTRACT_TYPE').apply(lambda x : operation(x['AMT_INCOME_TOTAL'])).reset_index()  \n",
    "app_train.reset_index(inplace = True)\n",
    "app_train['new'] = new['AMT_INCOME_TOTAL']\n",
    "print(app_train['new'].head())"
   ]
  }
 ],
 "metadata": {
  "kernelspec": {
   "display_name": "Python 3",
   "language": "python",
   "name": "python3"
  },
  "language_info": {
   "codemirror_mode": {
    "name": "ipython",
    "version": 3
   },
   "file_extension": ".py",
   "mimetype": "text/x-python",
   "name": "python",
   "nbconvert_exporter": "python",
   "pygments_lexer": "ipython3",
   "version": "3.6.5"
  }
 },
 "nbformat": 4,
 "nbformat_minor": 2
}
