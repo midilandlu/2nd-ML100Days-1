{
 "cells": [
  {
   "cell_type": "markdown",
   "metadata": {
    "colab_type": "text",
    "id": "cj4tE8e8iUtO"
   },
   "source": [
    "#   \n",
    "\n",
    "# 作業目標:\n",
    "\n",
    "    1. 藉由固定的 dataset, 來驗證不同loss function\n",
    "    2. Dataset 的特性跟我們選用的loss function 對accrancy 的影響\n",
    "    \n",
    "    \n",
    "# 作業重點: \n",
    "    請分別選用 \"MSE\", \"binary _crossentropy\"\n",
    "    查看Train/test accurancy and loss rate\n",
    "    "
   ]
  },
  {
   "cell_type": "markdown",
   "metadata": {
    "colab_type": "text",
    "id": "R51J4KyyiUsL"
   },
   "source": [
    "# 導入必要的函數"
   ]
  },
  {
   "cell_type": "code",
   "execution_count": 1,
   "metadata": {
    "colab": {},
    "colab_type": "code",
    "id": "Qd68OQjciUsM"
   },
   "outputs": [
    {
     "name": "stderr",
     "output_type": "stream",
     "text": [
      "C:\\Users\\peng\\Anaconda3\\lib\\site-packages\\h5py\\__init__.py:36: FutureWarning: Conversion of the second argument of issubdtype from `float` to `np.floating` is deprecated. In future, it will be treated as `np.float64 == np.dtype(float).type`.\n",
      "  from ._conv import register_converters as _register_converters\n",
      "Using TensorFlow backend.\n"
     ]
    }
   ],
   "source": [
    "from keras.datasets import cifar10\n",
    "import numpy as np\n",
    "np.random.seed(10)"
   ]
  },
  {
   "cell_type": "markdown",
   "metadata": {
    "colab_type": "text",
    "id": "GxKuzQLQiUsP"
   },
   "source": [
    "# 資料準備"
   ]
  },
  {
   "cell_type": "code",
   "execution_count": 2,
   "metadata": {
    "colab": {},
    "colab_type": "code",
    "id": "MIbFZdTCiUsQ"
   },
   "outputs": [],
   "source": [
    "#取得Keras Dataset\n",
    "(x_img_train , y_label_train) , (x_img_test , y_label_test) = cifar10.load_data()"
   ]
  },
  {
   "cell_type": "code",
   "execution_count": 3,
   "metadata": {
    "colab": {},
    "colab_type": "code",
    "id": "J8CJVjNOiUsS"
   },
   "outputs": [
    {
     "name": "stdout",
     "output_type": "stream",
     "text": [
      "train data: images: (50000, 32, 32, 3)  labels: (50000, 1)\n",
      "test  data: images: (10000, 32, 32, 3)  labels: (10000, 1)\n"
     ]
    }
   ],
   "source": [
    "#確認 CIFAR10 Dataset 資料維度\n",
    "print(\"train data:\" ,\n",
    "      'images:' , x_img_train.shape ,\n",
    "      \" labels:\" , y_label_train.shape) \n",
    "\n",
    "print(\"test  data:\" , \n",
    "      'images:' , x_img_test.shape ,\n",
    "      \" labels:\" , y_label_test.shape) "
   ]
  },
  {
   "cell_type": "code",
   "execution_count": 4,
   "metadata": {
    "colab": {},
    "colab_type": "code",
    "id": "V3P6P4DXiUsV"
   },
   "outputs": [],
   "source": [
    "#資料正規化\n",
    "x_img_train_normalize = x_img_train.astype('float32') / 255.0\n",
    "x_img_test_normalize = x_img_test.astype('float32') / 255.0"
   ]
  },
  {
   "cell_type": "code",
   "execution_count": 5,
   "metadata": {
    "colab": {},
    "colab_type": "code",
    "id": "vsDyjKYliUsX"
   },
   "outputs": [
    {
     "data": {
      "text/plain": [
       "(10000, 10)"
      ]
     },
     "execution_count": 5,
     "metadata": {},
     "output_type": "execute_result"
    }
   ],
   "source": [
    "#針對Label 做 ONE HOT ENCODE\n",
    "from keras.utils import np_utils\n",
    "y_label_train_OneHot = np_utils.to_categorical(y_label_train)\n",
    "y_label_test_OneHot = np_utils.to_categorical(y_label_test)\n",
    "y_label_test_OneHot.shape"
   ]
  },
  {
   "cell_type": "markdown",
   "metadata": {
    "colab_type": "text",
    "id": "RutW2OtgiUsZ"
   },
   "source": [
    "# 訓練模型(loss = 'MSE')"
   ]
  },
  {
   "cell_type": "code",
   "execution_count": 6,
   "metadata": {
    "colab": {},
    "colab_type": "code",
    "id": "aHz592aXiUsa"
   },
   "outputs": [],
   "source": [
    "from keras.models import Model\n",
    "from keras.layers import Input , Dense, Dropout, Activation, Flatten\n",
    "from keras.layers import Conv2D, MaxPooling2D, ZeroPadding2D"
   ]
  },
  {
   "cell_type": "code",
   "execution_count": 25,
   "metadata": {
    "colab": {},
    "colab_type": "code",
    "id": "hslqrIp0iUse"
   },
   "outputs": [],
   "source": [
    "model_input = Input(shape=(32, 32, 3 , ) , dtype = 'float32' , name = 'main_input')"
   ]
  },
  {
   "cell_type": "code",
   "execution_count": 8,
   "metadata": {
    "colab": {},
    "colab_type": "code",
    "id": "Hqe35hs2iUsi"
   },
   "outputs": [],
   "source": [
    "#卷積層1"
   ]
  },
  {
   "cell_type": "code",
   "execution_count": 26,
   "metadata": {},
   "outputs": [],
   "source": [
    "conv1 = Conv2D(filters = 32 , \n",
    "               kernel_size = (3 , 3) ,\n",
    "               input_shape = (32 , 32 , 3), \n",
    "               activation = 'relu', \n",
    "               padding = 'same')(model_input)\n",
    "\n",
    "conv1 = Dropout(rate = 0.25)(conv1)\n",
    "\n",
    "pooled1 = MaxPooling2D(pool_size = (2 , 2))(conv1)"
   ]
  },
  {
   "cell_type": "code",
   "execution_count": 12,
   "metadata": {
    "colab": {},
    "colab_type": "code",
    "id": "nawlkt55iUsy"
   },
   "outputs": [],
   "source": [
    "#卷積層2與池化層2"
   ]
  },
  {
   "cell_type": "code",
   "execution_count": 27,
   "metadata": {},
   "outputs": [],
   "source": [
    "conv2 = Conv2D(filters = 64 , \n",
    "               kernel_size = (3 , 3) ,\n",
    "               input_shape = (32 , 32 , 3), \n",
    "               activation = 'relu', \n",
    "               padding = 'same')(pooled1)\n",
    "\n",
    "conv2 = Dropout(rate = 0.25)(conv2)\n",
    "\n",
    "pooled2 = MaxPooling2D(pool_size = (2 , 2))(conv2)"
   ]
  },
  {
   "cell_type": "code",
   "execution_count": 16,
   "metadata": {
    "colab": {},
    "colab_type": "code",
    "id": "LpkppB2siUs7"
   },
   "outputs": [],
   "source": [
    "#建立神經網路(平坦層、隱藏層、輸出層)"
   ]
  },
  {
   "cell_type": "code",
   "execution_count": 28,
   "metadata": {},
   "outputs": [],
   "source": [
    "flat_layer = Flatten()(pooled2)\n",
    "flat_layer = Dropout(rate = 0.25)(flat_layer)\n",
    "model_output = Dense(10 , activation = 'softmax')(flat_layer)"
   ]
  },
  {
   "cell_type": "code",
   "execution_count": 34,
   "metadata": {
    "colab": {},
    "colab_type": "code",
    "id": "ZxzRIjR0iUtH"
   },
   "outputs": [
    {
     "name": "stdout",
     "output_type": "stream",
     "text": [
      "_________________________________________________________________\n",
      "Layer (type)                 Output Shape              Param #   \n",
      "=================================================================\n",
      "main_input (InputLayer)      (None, 32, 32, 3)         0         \n",
      "_________________________________________________________________\n",
      "conv2d_1 (Conv2D)            (None, 32, 32, 32)        896       \n",
      "_________________________________________________________________\n",
      "dropout_1 (Dropout)          (None, 32, 32, 32)        0         \n",
      "_________________________________________________________________\n",
      "max_pooling2d_1 (MaxPooling2 (None, 16, 16, 32)        0         \n",
      "_________________________________________________________________\n",
      "conv2d_2 (Conv2D)            (None, 16, 16, 64)        18496     \n",
      "_________________________________________________________________\n",
      "dropout_2 (Dropout)          (None, 16, 16, 64)        0         \n",
      "_________________________________________________________________\n",
      "max_pooling2d_2 (MaxPooling2 (None, 8, 8, 64)          0         \n",
      "_________________________________________________________________\n",
      "flatten_1 (Flatten)          (None, 4096)              0         \n",
      "_________________________________________________________________\n",
      "dropout_3 (Dropout)          (None, 4096)              0         \n",
      "_________________________________________________________________\n",
      "dense_1 (Dense)              (None, 10)                40970     \n",
      "=================================================================\n",
      "Total params: 60,362\n",
      "Trainable params: 60,362\n",
      "Non-trainable params: 0\n",
      "_________________________________________________________________\n",
      "None\n"
     ]
    }
   ],
   "source": [
    "#檢查model 的STACK\n",
    "model = Model(inputs = model_input ,\n",
    "              outputs = model_output)\n",
    "print(model.summary())"
   ]
  },
  {
   "cell_type": "code",
   "execution_count": 23,
   "metadata": {},
   "outputs": [
    {
     "name": "stdout",
     "output_type": "stream",
     "text": [
      "Train on 37500 samples, validate on 12500 samples\n",
      "Epoch 1/12\n",
      "37500/37500 [==============================] - 143s 4ms/step - loss: 0.0725 - acc: 0.4088 - val_loss: 0.0672 - val_acc: 0.5102\n",
      "Epoch 2/12\n",
      "37500/37500 [==============================] - 143s 4ms/step - loss: 0.0597 - acc: 0.5433 - val_loss: 0.0607 - val_acc: 0.5711\n",
      "Epoch 3/12\n",
      "37500/37500 [==============================] - 174s 5ms/step - loss: 0.0545 - acc: 0.5913 - val_loss: 0.0554 - val_acc: 0.6227\n",
      "Epoch 4/12\n",
      "37500/37500 [==============================] - 199s 5ms/step - loss: 0.0513 - acc: 0.6170 - val_loss: 0.0530 - val_acc: 0.6332\n",
      "Epoch 5/12\n",
      "37500/37500 [==============================] - 177s 5ms/step - loss: 0.0488 - acc: 0.6381 - val_loss: 0.0508 - val_acc: 0.6461\n",
      "Epoch 6/12\n",
      "37500/37500 [==============================] - 178s 5ms/step - loss: 0.0468 - acc: 0.6568 - val_loss: 0.0494 - val_acc: 0.6593\n",
      "Epoch 7/12\n",
      "37500/37500 [==============================] - 188s 5ms/step - loss: 0.0452 - acc: 0.6703 - val_loss: 0.0480 - val_acc: 0.6770\n",
      "Epoch 8/12\n",
      "37500/37500 [==============================] - 168s 4ms/step - loss: 0.0439 - acc: 0.6800 - val_loss: 0.0470 - val_acc: 0.6750\n",
      "Epoch 9/12\n",
      "37500/37500 [==============================] - 165s 4ms/step - loss: 0.0426 - acc: 0.6910 - val_loss: 0.0461 - val_acc: 0.6855\n",
      "Epoch 10/12\n",
      "37500/37500 [==============================] - 169s 5ms/step - loss: 0.0417 - acc: 0.6999 - val_loss: 0.0449 - val_acc: 0.6906\n",
      "Epoch 11/12\n",
      "37500/37500 [==============================] - 168s 4ms/step - loss: 0.0407 - acc: 0.7078 - val_loss: 0.0447 - val_acc: 0.6880\n",
      "Epoch 12/12\n",
      "37500/37500 [==============================] - 175s 5ms/step - loss: 0.0404 - acc: 0.7105 - val_loss: 0.0448 - val_acc: 0.6846\n"
     ]
    }
   ],
   "source": [
    "model.compile(loss = 'MSE', \n",
    "              optimizer = 'adam',\n",
    "              metrics = ['accuracy'])\n",
    "\n",
    "train_history = model.fit(x = x_img_train_normalize,\n",
    "                          y = y_label_train_OneHot , \n",
    "                          validation_split = 0.25, \n",
    "                          epochs = 12, \n",
    "                          batch_size = 128,\n",
    "                          verbose = 1)"
   ]
  },
  {
   "cell_type": "markdown",
   "metadata": {},
   "source": [
    "# 訓練模型(loss = 'binary_crossentropy')"
   ]
  },
  {
   "cell_type": "code",
   "execution_count": 7,
   "metadata": {},
   "outputs": [],
   "source": [
    "model_input_ = Input(shape=(32, 32, 3 , ) , dtype = 'float32' , name = 'main_input')\n",
    "\n",
    "conv1_ = Conv2D(filters = 32 , \n",
    "               kernel_size = (3 , 3) ,\n",
    "               input_shape = (32 , 32 , 3), \n",
    "               activation = 'relu', \n",
    "               padding = 'same')(model_input_)\n",
    "\n",
    "conv1_ = Dropout(rate = 0.25)(conv1_)\n",
    "\n",
    "pooled1_ = MaxPooling2D(pool_size = (2 , 2))(conv1_)"
   ]
  },
  {
   "cell_type": "code",
   "execution_count": 8,
   "metadata": {},
   "outputs": [],
   "source": [
    "conv2_ = Conv2D(filters = 64 , \n",
    "               kernel_size = (3 , 3) ,\n",
    "               input_shape = (32 , 32 , 3), \n",
    "               activation = 'relu', \n",
    "               padding = 'same')(pooled1_)\n",
    "\n",
    "conv2_ = Dropout(rate = 0.25)(conv2_)\n",
    "\n",
    "pooled2_ = MaxPooling2D(pool_size = (2 , 2))(conv2_)"
   ]
  },
  {
   "cell_type": "code",
   "execution_count": 9,
   "metadata": {},
   "outputs": [],
   "source": [
    "flat_layer_ = Flatten()(pooled2_)\n",
    "flat_layer_ = Dropout(rate = 0.25)(flat_layer_)\n",
    "model_output_ = Dense(10 , activation = 'softmax')(flat_layer_)"
   ]
  },
  {
   "cell_type": "code",
   "execution_count": 11,
   "metadata": {},
   "outputs": [
    {
     "name": "stdout",
     "output_type": "stream",
     "text": [
      "Train on 37500 samples, validate on 12500 samples\n",
      "Epoch 1/12\n",
      "37500/37500 [==============================] - 168s 4ms/step - loss: 0.2439 - acc: 0.9093 - val_loss: 0.2227 - val_acc: 0.9118\n",
      "Epoch 2/12\n",
      "37500/37500 [==============================] - 208s 6ms/step - loss: 0.1990 - acc: 0.9225 - val_loss: 0.2019 - val_acc: 0.9195\n",
      "Epoch 3/12\n",
      "37500/37500 [==============================] - 223s 6ms/step - loss: 0.1834 - acc: 0.9285 - val_loss: 0.1896 - val_acc: 0.9244\n",
      "Epoch 4/12\n",
      "37500/37500 [==============================] - 220s 6ms/step - loss: 0.1724 - acc: 0.9326 - val_loss: 0.1849 - val_acc: 0.9282\n",
      "Epoch 5/12\n",
      "37500/37500 [==============================] - 222s 6ms/step - loss: 0.1645 - acc: 0.9360 - val_loss: 0.1725 - val_acc: 0.9327\n",
      "Epoch 6/12\n",
      "37500/37500 [==============================] - 174s 5ms/step - loss: 0.1577 - acc: 0.9389 - val_loss: 0.1677 - val_acc: 0.9345\n",
      "Epoch 7/12\n",
      "37500/37500 [==============================] - 172s 5ms/step - loss: 0.1530 - acc: 0.9403 - val_loss: 0.1669 - val_acc: 0.9355\n",
      "Epoch 8/12\n",
      "37500/37500 [==============================] - 175s 5ms/step - loss: 0.1492 - acc: 0.9422 - val_loss: 0.1642 - val_acc: 0.9364\n",
      "Epoch 9/12\n",
      "37500/37500 [==============================] - 177s 5ms/step - loss: 0.1444 - acc: 0.9443 - val_loss: 0.1575 - val_acc: 0.9388\n",
      "Epoch 10/12\n",
      "37500/37500 [==============================] - 167s 4ms/step - loss: 0.1409 - acc: 0.9452 - val_loss: 0.1550 - val_acc: 0.9397\n",
      "Epoch 11/12\n",
      "37500/37500 [==============================] - 162s 4ms/step - loss: 0.1391 - acc: 0.9461 - val_loss: 0.1544 - val_acc: 0.9411\n",
      "Epoch 12/12\n",
      "37500/37500 [==============================] - 161s 4ms/step - loss: 0.1359 - acc: 0.9475 - val_loss: 0.1489 - val_acc: 0.9431\n"
     ]
    }
   ],
   "source": [
    "model_ = Model(inputs = model_input_ ,\n",
    "               outputs = model_output_)\n",
    "\n",
    "\n",
    "model_.compile(loss = 'binary_crossentropy', \n",
    "              optimizer = 'adam',\n",
    "              metrics = ['accuracy'])\n",
    "\n",
    "train_history = model_.fit(x = x_img_train_normalize,\n",
    "                           y = y_label_train_OneHot , \n",
    "                           validation_split = 0.25, \n",
    "                           epochs = 12, \n",
    "                           batch_size = 128,\n",
    "                           verbose = 1)"
   ]
  }
 ],
 "metadata": {
  "colab": {
   "name": "Day71-使用損失函數_HW.ipynb",
   "provenance": [],
   "version": "0.3.2"
  },
  "kernelspec": {
   "display_name": "Python 3",
   "language": "python",
   "name": "python3"
  },
  "language_info": {
   "codemirror_mode": {
    "name": "ipython",
    "version": 3
   },
   "file_extension": ".py",
   "mimetype": "text/x-python",
   "name": "python",
   "nbconvert_exporter": "python",
   "pygments_lexer": "ipython3",
   "version": "3.6.5"
  }
 },
 "nbformat": 4,
 "nbformat_minor": 1
}
