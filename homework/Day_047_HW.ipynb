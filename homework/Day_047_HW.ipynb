{
 "cells": [
  {
   "cell_type": "markdown",
   "metadata": {},
   "source": [
    "## [作業重點]\n",
    "了解如何使用 Sklearn 中的 hyper-parameter search 找出最佳的超參數"
   ]
  },
  {
   "cell_type": "markdown",
   "metadata": {},
   "source": [
    "### 作業\n",
    "請使用不同的資料集，並使用 hyper-parameter search 的方式，看能不能找出最佳的超參數組合"
   ]
  },
  {
   "cell_type": "code",
   "execution_count": 1,
   "metadata": {},
   "outputs": [],
   "source": [
    "import pandas as pd\n",
    "import numpy as np\n",
    "import lightgbm as lgb\n",
    "from sklearn.model_selection import KFold\n",
    "from sklearn.model_selection import train_test_split\n",
    "from sklearn.preprocessing import StandardScaler\n",
    "from sklearn.datasets import load_digits\n",
    "import matplotlib.pyplot as plt\n",
    "import seaborn as sns\n",
    "import random\n",
    "from tqdm import trange"
   ]
  },
  {
   "cell_type": "code",
   "execution_count": 2,
   "metadata": {},
   "outputs": [],
   "source": [
    "digits = load_digits()\n",
    "X = digits.data\n",
    "y = digits.target\n",
    "\n",
    "X_train , X_test , y_train , y_test = train_test_split(X , y , test_size = 0.2)\n",
    "X_train , X_val , y_train , y_val = train_test_split(X_train , y_train , test_size = 0.2)\n",
    "\n",
    "sc_X = StandardScaler()\n",
    "X_train = sc_X.fit_transform(X_train)\n",
    "X_test = sc_X.transform(X_test)"
   ]
  },
  {
   "cell_type": "code",
   "execution_count": 3,
   "metadata": {},
   "outputs": [],
   "source": [
    "# Hyperparameter grid\n",
    "param_grid = {'class_weight': [None, 'balanced'],\n",
    "              'boosting_type': ['gbdt', 'goss', 'dart'],\n",
    "              'num_leaves': list(range(30, 150)),\n",
    "              'learning_rate': list(np.logspace(np.log(0.005), np.log(0.2), base = np.exp(1), num = 1000)),\n",
    "              'subsample_for_bin': list(range(20000, 300000, 20000)),\n",
    "              'min_child_samples': list(range(20, 500, 5)),\n",
    "              'reg_alpha': list(np.linspace(0, 1)),\n",
    "              'reg_lambda': list(np.linspace(0, 1)),\n",
    "              'colsample_bytree': list(np.linspace(0.6, 1, 10))}\n",
    "\n",
    "# Subsampling (只有'goss'才可用subsample_dist)\n",
    "subsample_dist = list(np.linspace(0.5, 1, 100))"
   ]
  },
  {
   "cell_type": "code",
   "execution_count": 4,
   "metadata": {},
   "outputs": [],
   "source": [
    "model = lgb.LGBMClassifier()\n",
    "train_set = lgb.Dataset(X_train , label = y_train) "
   ]
  },
  {
   "cell_type": "code",
   "execution_count": 5,
   "metadata": {},
   "outputs": [],
   "source": [
    "def random_objective(params , iteration , n_folds):\n",
    "   \n",
    "    # Perform n_folds cross validation\n",
    "    cv_results = lgb.cv(params , \n",
    "                        train_set ,\n",
    "                        num_boost_round = 10000 ,\n",
    "                        nfold = n_folds , \n",
    "                        early_stopping_rounds = 100 , \n",
    "                        metrics = 'auc' ,\n",
    "                        seed = 50)\n",
    "\n",
    "    best_score = np.max(cv_results['auc-mean'])\n",
    "    loss = 1 - best_score\n",
    "    \n",
    "    # Boosting rounds that returned the highest cv score\n",
    "    n_estimators = int(len(cv_results['auc-mean'])) # 這樣寫也可以\n",
    "    \n",
    "    # Return list of results\n",
    "    return [loss , params , iteration , n_estimators]"
   ]
  },
  {
   "cell_type": "code",
   "execution_count": 6,
   "metadata": {},
   "outputs": [],
   "source": [
    "# Dataframe to hold cv results\n",
    "random_results = pd.DataFrame(columns = ['loss' , 'params' , 'iteration' , 'estimators'],\n",
    "                              index = list(range(0 , 50)))"
   ]
  },
  {
   "cell_type": "code",
   "execution_count": 7,
   "metadata": {},
   "outputs": [
    {
     "name": "stderr",
     "output_type": "stream",
     "text": [
      "100%|██████████████████████████████████████████████████████████████████████████████████| 50/50 [05:46<00:00,  3.98s/it]\n"
     ]
    }
   ],
   "source": [
    "random.seed(50)\n",
    "\n",
    "# Iterate through the specified number of evaluations\n",
    "for i in trange(0 , 50):\n",
    "    \n",
    "    # Randomly sample parameters for gbm\n",
    "    params = {}\n",
    "    for key in param_grid.keys():\n",
    "        params[key] = random.sample(param_grid[key] , 1)\n",
    "    \n",
    "    if params['boosting_type'] == 'goss':\n",
    "        # Cannot subsample with goss\n",
    "        params['subsample'] = 1.0\n",
    "    else:\n",
    "        # Subsample supported for gdbt and dart\n",
    "        params['subsample'] = random.sample(subsample_dist, 1)[0]\n",
    "        \n",
    "        \n",
    "    results_list = random_objective(params = params , iteration = i , n_folds = 10)\n",
    "    \n",
    "    # Add results to next row in dataframe\n",
    "    random_results.iloc[i, :] = results_list"
   ]
  },
  {
   "cell_type": "code",
   "execution_count": 9,
   "metadata": {},
   "outputs": [
    {
     "data": {
      "text/html": [
       "<div>\n",
       "<style scoped>\n",
       "    .dataframe tbody tr th:only-of-type {\n",
       "        vertical-align: middle;\n",
       "    }\n",
       "\n",
       "    .dataframe tbody tr th {\n",
       "        vertical-align: top;\n",
       "    }\n",
       "\n",
       "    .dataframe thead th {\n",
       "        text-align: right;\n",
       "    }\n",
       "</style>\n",
       "<table border=\"1\" class=\"dataframe\">\n",
       "  <thead>\n",
       "    <tr style=\"text-align: right;\">\n",
       "      <th></th>\n",
       "      <th>loss</th>\n",
       "      <th>params</th>\n",
       "      <th>iteration</th>\n",
       "      <th>estimators</th>\n",
       "    </tr>\n",
       "  </thead>\n",
       "  <tbody>\n",
       "    <tr>\n",
       "      <th>0</th>\n",
       "      <td>0.0289758</td>\n",
       "      <td>{'class_weight': ['balanced'], 'boosting_type'...</td>\n",
       "      <td>12</td>\n",
       "      <td>196</td>\n",
       "    </tr>\n",
       "    <tr>\n",
       "      <th>1</th>\n",
       "      <td>0.0338931</td>\n",
       "      <td>{'class_weight': [None], 'boosting_type': ['gb...</td>\n",
       "      <td>32</td>\n",
       "      <td>542</td>\n",
       "    </tr>\n",
       "    <tr>\n",
       "      <th>2</th>\n",
       "      <td>0.0351536</td>\n",
       "      <td>{'class_weight': [None], 'boosting_type': ['gb...</td>\n",
       "      <td>27</td>\n",
       "      <td>1019</td>\n",
       "    </tr>\n",
       "    <tr>\n",
       "      <th>3</th>\n",
       "      <td>0.0371429</td>\n",
       "      <td>{'class_weight': [None], 'boosting_type': ['gb...</td>\n",
       "      <td>2</td>\n",
       "      <td>1217</td>\n",
       "    </tr>\n",
       "    <tr>\n",
       "      <th>4</th>\n",
       "      <td>0.0383874</td>\n",
       "      <td>{'class_weight': [None], 'boosting_type': ['gb...</td>\n",
       "      <td>20</td>\n",
       "      <td>647</td>\n",
       "    </tr>\n",
       "  </tbody>\n",
       "</table>\n",
       "</div>"
      ],
      "text/plain": [
       "        loss                                             params iteration  \\\n",
       "0  0.0289758  {'class_weight': ['balanced'], 'boosting_type'...        12   \n",
       "1  0.0338931  {'class_weight': [None], 'boosting_type': ['gb...        32   \n",
       "2  0.0351536  {'class_weight': [None], 'boosting_type': ['gb...        27   \n",
       "3  0.0371429  {'class_weight': [None], 'boosting_type': ['gb...         2   \n",
       "4  0.0383874  {'class_weight': [None], 'boosting_type': ['gb...        20   \n",
       "\n",
       "  estimators  \n",
       "0        196  \n",
       "1        542  \n",
       "2       1019  \n",
       "3       1217  \n",
       "4        647  "
      ]
     },
     "execution_count": 9,
     "metadata": {},
     "output_type": "execute_result"
    }
   ],
   "source": [
    "random_results = random_results.sort_values('loss' , ascending = True)\n",
    "random_results = random_results.reset_index(drop = True)\n",
    "random_results.head()"
   ]
  }
 ],
 "metadata": {
  "kernelspec": {
   "display_name": "Python 3",
   "language": "python",
   "name": "python3"
  },
  "language_info": {
   "codemirror_mode": {
    "name": "ipython",
    "version": 3
   },
   "file_extension": ".py",
   "mimetype": "text/x-python",
   "name": "python",
   "nbconvert_exporter": "python",
   "pygments_lexer": "ipython3",
   "version": "3.6.5"
  }
 },
 "nbformat": 4,
 "nbformat_minor": 2
}
