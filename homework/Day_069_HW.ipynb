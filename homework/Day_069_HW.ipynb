{
 "cells": [
  {
   "cell_type": "markdown",
   "metadata": {},
   "source": [
    "# 作業目標:\n",
    "    \n",
    "    建立一個網路模型"
   ]
  },
  {
   "cell_type": "markdown",
   "metadata": {},
   "source": [
    "# 作業重點:\n",
    "\n",
    "請修改 Name 中, 自定義的 Layer 名稱\n",
    "\n",
    "增加一層全連階層\n",
    "\n",
    "宣告 MODEL API, 分別採用自行定義的 Input/Output Layer\n",
    "\n",
    "model.summary 查看 Layers stack"
   ]
  },
  {
   "cell_type": "code",
   "execution_count": 25,
   "metadata": {},
   "outputs": [],
   "source": [
    "import keras\n",
    "from keras.layers import Input , Embedding , LSTM, Dense\n",
    "from keras.models import Model\n",
    "\n",
    "#主要輸入接收新聞標題本身，即一個整數序列（每個整數編碼一個詞）。\n",
    "#這些整數在1 到10,000 之間（10,000 個詞的詞彙表），且序列長度為100 個詞\n",
    "#宣告一個 NAME 去定義Input\n",
    "main_input = Input(shape=(100 ,) , dtype = 'int32' , name = 'main_input')\n",
    "\n",
    "\n",
    "# Embedding 層將輸入序列編碼為一個稠密向量的序列，\n",
    "# 每個向量維度為 512。\n",
    "x = Embedding(output_dim = 512 , input_dim = 10000 , input_length = 100)(main_input)\n",
    "\n",
    "# LSTM 層把向量序列轉換成單個向量，\n",
    "# 它包含整個序列的上下文信息\n",
    "lstm_out = LSTM(32)(x)"
   ]
  },
  {
   "cell_type": "code",
   "execution_count": 26,
   "metadata": {},
   "outputs": [],
   "source": [
    "#插入輔助損失，使得即使在模型主損失很高的情況下，LSTM 層和Embedding 層都能被平穩地訓練\n",
    "news_output = Dense(1 , activation = 'sigmoid' , name = 'news_out')(lstm_out)"
   ]
  },
  {
   "cell_type": "code",
   "execution_count": 27,
   "metadata": {},
   "outputs": [],
   "source": [
    "#輔助輸入數據與LSTM 層的輸出連接起來，輸入到模型\n",
    "news_input = Input(shape=(5 ,) , dtype = 'float32' , name ='news_in')\n",
    "y = keras.layers.concatenate([lstm_out, news_input])\n",
    "\n",
    "\n",
    "# 堆疊多個全連接網路層\n",
    "y = Dense(64 , activation = 'relu')(y)\n",
    "y = Dense(64 , activation = 'relu')(y)\n",
    "#作業解答: 新增兩層\n",
    "z = Dense(64 , activation = 'relu')(y)\n",
    "z = Dense(32 , activation = 'relu')(z)\n",
    "\n",
    "# 最後添加主要的邏輯回歸層\n",
    "main_output = Dense(1 , activation = 'sigmoid' , name = 'main_output')(z)\n",
    "auxiliary_output = Dense(1 , activation = 'tanh' , name = 'auxiliary_output')(z)"
   ]
  },
  {
   "cell_type": "code",
   "execution_count": 28,
   "metadata": {},
   "outputs": [],
   "source": [
    "# 宣告 MODEL API, 分別採用自行定義的 Input/Output Layer\n",
    "model = Model(inputs = [main_input , news_input] ,\n",
    "              outputs = [main_output , auxiliary_output])"
   ]
  },
  {
   "cell_type": "code",
   "execution_count": 30,
   "metadata": {},
   "outputs": [],
   "source": [
    "model.compile(optimizer = 'rmsprop',\n",
    "              loss={'main_output' : 'binary_crossentropy' , 'auxiliary_output' : 'binary_crossentropy'} , \n",
    "              loss_weights = {'main_output': 1. , 'auxiliary_output': 0.2})"
   ]
  },
  {
   "cell_type": "code",
   "execution_count": 31,
   "metadata": {},
   "outputs": [
    {
     "name": "stdout",
     "output_type": "stream",
     "text": [
      "__________________________________________________________________________________________________\n",
      "Layer (type)                    Output Shape         Param #     Connected to                     \n",
      "==================================================================================================\n",
      "main_input (InputLayer)         (None, 100)          0                                            \n",
      "__________________________________________________________________________________________________\n",
      "embedding_3 (Embedding)         (None, 100, 512)     5120000     main_input[0][0]                 \n",
      "__________________________________________________________________________________________________\n",
      "lstm_3 (LSTM)                   (None, 32)           69760       embedding_3[0][0]                \n",
      "__________________________________________________________________________________________________\n",
      "news_in (InputLayer)            (None, 5)            0                                            \n",
      "__________________________________________________________________________________________________\n",
      "concatenate_5 (Concatenate)     (None, 37)           0           lstm_3[0][0]                     \n",
      "                                                                 news_in[0][0]                    \n",
      "__________________________________________________________________________________________________\n",
      "dense_13 (Dense)                (None, 64)           2432        concatenate_5[0][0]              \n",
      "__________________________________________________________________________________________________\n",
      "dense_14 (Dense)                (None, 64)           4160        dense_13[0][0]                   \n",
      "__________________________________________________________________________________________________\n",
      "dense_15 (Dense)                (None, 64)           4160        dense_14[0][0]                   \n",
      "__________________________________________________________________________________________________\n",
      "dense_16 (Dense)                (None, 32)           2080        dense_15[0][0]                   \n",
      "__________________________________________________________________________________________________\n",
      "main_output (Dense)             (None, 1)            33          dense_16[0][0]                   \n",
      "__________________________________________________________________________________________________\n",
      "auxiliary_output (Dense)        (None, 1)            33          dense_16[0][0]                   \n",
      "==================================================================================================\n",
      "Total params: 5,202,658\n",
      "Trainable params: 5,202,658\n",
      "Non-trainable params: 0\n",
      "__________________________________________________________________________________________________\n"
     ]
    }
   ],
   "source": [
    "model.summary()"
   ]
  },
  {
   "cell_type": "code",
   "execution_count": 36,
   "metadata": {},
   "outputs": [],
   "source": [
    "from keras.utils import plot_model\n",
    "plot_model(model ,\n",
    "           show_shapes = True , \n",
    "           show_layer_names = True ,\n",
    "           to_file='model.png')"
   ]
  },
  {
   "cell_type": "code",
   "execution_count": null,
   "metadata": {},
   "outputs": [],
   "source": [
    "show_shapes：指定是否显示输出数据的形状，默认为False\n",
    "show_layer_names"
   ]
  }
 ],
 "metadata": {
  "kernelspec": {
   "display_name": "Python 3",
   "language": "python",
   "name": "python3"
  },
  "language_info": {
   "codemirror_mode": {
    "name": "ipython",
    "version": 3
   },
   "file_extension": ".py",
   "mimetype": "text/x-python",
   "name": "python",
   "nbconvert_exporter": "python",
   "pygments_lexer": "ipython3",
   "version": "3.6.5"
  }
 },
 "nbformat": 4,
 "nbformat_minor": 2
}
