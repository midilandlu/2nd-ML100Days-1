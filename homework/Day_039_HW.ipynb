{
 "cells": [
  {
   "cell_type": "markdown",
   "metadata": {},
   "source": [
    "## [作業重點]\n",
    "清楚了解 L1, L2 的意義與差異為何，並了解 LASSO 與 Ridge 之間的差異與使用情境"
   ]
  },
  {
   "cell_type": "markdown",
   "metadata": {},
   "source": [
    "## 作業"
   ]
  },
  {
   "cell_type": "markdown",
   "metadata": {},
   "source": [
    "請閱讀相關文獻，並回答下列問題\n",
    "\n",
    "[脊回歸 (Ridge Regression)](https://blog.csdn.net/daunxx/article/details/51578787)\n",
    "[Linear, Ridge, Lasso Regression 本質區別](https://www.zhihu.com/question/38121173)\n",
    "\n",
    "1. LASSO 回歸可以被用來作為 Feature selection 的工具，請了解 LASSO 模型為什麼可用來作 Feature selection\n",
    "->因為就理論而言，用lasso可以做到讓\"稀疏化\"，所以某些特徵所佔的weight會變成0，進而可以做到Feature selection\n",
    "\n",
    "2. 當自變數 (X) 存在高度共線性時，Ridge Regression 可以處理這樣的問題嗎?\n",
    "->假設當狀況極端一些，當X的column1(特徵1)與column1(特徵2)線性相依時，而現在我們又要無聊去找到一組解X*a = 0的線性聯立方程式時(X為矩陣，a與0為向量)，會發現column1(特徵1)與column2(特徵2)有一組column(特徵)是多餘的，那等於在解Xa = 0的線性聯立方程式時會少一個column(特徵)，就很容易會有無限多組解，特別是在equation(可以對應資料的筆數)不多的時候，而這個無限多組解的特性其實就是對應到overfitting的情形(overfitting其實可以看成model capacity太強大了，可以找到非常多sol去對付我們少量的data)。回到\n",
    "回到X的column1(特徵1)與column2(特徵2)線性相依的問題上，因為線性相依會使X的column1或column2某一個column(特徵)\n",
    "沒有作用，然後XT*X這個矩陣會不滿秩，這樣XT*X不會有inverse，而XT*X半正定矩陣，所以理論上也不會有最小二乘法的exact sol，但是現在我們使用Ridge Regression，強制加上a*I，此時XT*X+a*I就可以變成正定矩陣，這樣在理論上就可以有小二乘法的exact sol。"
   ]
  },
  {
   "cell_type": "code",
   "execution_count": null,
   "metadata": {},
   "outputs": [],
   "source": []
  },
  {
   "cell_type": "code",
   "execution_count": null,
   "metadata": {},
   "outputs": [],
   "source": []
  }
 ],
 "metadata": {
  "kernelspec": {
   "display_name": "Python 3",
   "language": "python",
   "name": "python3"
  },
  "language_info": {
   "codemirror_mode": {
    "name": "ipython",
    "version": 3
   },
   "file_extension": ".py",
   "mimetype": "text/x-python",
   "name": "python",
   "nbconvert_exporter": "python",
   "pygments_lexer": "ipython3",
   "version": "3.6.5"
  }
 },
 "nbformat": 4,
 "nbformat_minor": 2
}
